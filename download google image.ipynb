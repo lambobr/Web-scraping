{
 "cells": [
  {
   "cell_type": "code",
   "execution_count": 72,
   "id": "11692652",
   "metadata": {},
   "outputs": [],
   "source": [
    "from bs4 import BeautifulSoup\n",
    "import requests\n",
    "import urllib.request\n",
    "import os"
   ]
  },
  {
   "cell_type": "code",
   "execution_count": 73,
   "id": "deda5dac",
   "metadata": {},
   "outputs": [
    {
     "name": "stdout",
     "output_type": "stream",
     "text": [
      "Input image to search for:\n",
      "> whale shark\n"
     ]
    }
   ],
   "source": [
    "print('Input image to search for:')\n",
    "search = input('> ')\n",
    "#search = 'cat'\n",
    "\n",
    "main_url = \"https://www.google.com/search?q=\"+str(search)+\"&hl=en&tbm=isch&sxsrf=APq-WBsd07hR9EMNa7Mah6wtqW181FTdig%3A1643448934950&source=hp&biw=2400&bih=1183&ei=Zgr1YafqN9G4mAWs0rOYDQ&iflsig=AHkkrS4AAAAAYfUYdur7VqPF6yYFOGngQSEXMFtwmK16&ved=0ahUKEwinteOv1Nb1AhVRHKYKHSzpDNMQ4dUDCAY&oq=cat&gs_lcp=CgNpbWcQDDIHCCMQ7wMQJzIICAAQgAQQsQMyCAgAEIAEELEDMggIABCABBCxAzIICAAQgAQQsQMyCwgAEIAEELEDEIMBMgUIABCABDIICAAQgAQQsQMyCAgAEIAEELEDMggIABCABBCxAzoKCCMQ7wMQ6gIQJzoICAAQsQMQgwE6BAgAEAM6BQgAELEDUDZYjwNg_QxoAXAAeACAAUqIAdcBkgEBM5gBAKABAaoBC2d3cy13aXotaW1nsAEK&sclient=img\"\n",
    "response = requests.get(main_url)"
   ]
  },
  {
   "cell_type": "code",
   "execution_count": 74,
   "id": "f479f18e",
   "metadata": {},
   "outputs": [],
   "source": [
    "soup = BeautifulSoup(response.content, 'lxml')"
   ]
  },
  {
   "cell_type": "code",
   "execution_count": 75,
   "id": "fa4750aa",
   "metadata": {},
   "outputs": [],
   "source": [
    "all = soup.find_all('img', {'class':'yWs4tf'})"
   ]
  },
  {
   "cell_type": "code",
   "execution_count": null,
   "id": "e1704597",
   "metadata": {},
   "outputs": [],
   "source": [
    "path = rf'C:\\Users\\lambo\\OneDrive\\Documents\\Python Scripts\\{search}'\n",
    "if not os.path.exists(path):\n",
    "    os.makedirs(path)\n",
    "\n",
    "for count, images in enumerate(all):\n",
    "    img_link = images['src']\n",
    "\n",
    "    urllib.request.urlretrieve(img_link, path + rf'\\{search}_{count}.jpg')"
   ]
  },
  {
   "cell_type": "code",
   "execution_count": null,
   "id": "65c2abed",
   "metadata": {},
   "outputs": [],
   "source": []
  },
  {
   "cell_type": "code",
   "execution_count": null,
   "id": "21ec5005",
   "metadata": {},
   "outputs": [],
   "source": []
  }
 ],
 "metadata": {
  "kernelspec": {
   "display_name": "Python 3 (ipykernel)",
   "language": "python",
   "name": "python3"
  },
  "language_info": {
   "codemirror_mode": {
    "name": "ipython",
    "version": 3
   },
   "file_extension": ".py",
   "mimetype": "text/x-python",
   "name": "python",
   "nbconvert_exporter": "python",
   "pygments_lexer": "ipython3",
   "version": "3.8.3"
  }
 },
 "nbformat": 4,
 "nbformat_minor": 5
}
