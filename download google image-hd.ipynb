{
 "cells": [
  {
   "cell_type": "markdown",
   "id": "ea0e90a4",
   "metadata": {},
   "source": [
    "# Download HD google images\n",
    "\n",
    "## Note: attribute values may change since Google updates their code constantly"
   ]
  },
  {
   "cell_type": "code",
   "execution_count": 645,
   "id": "11692652",
   "metadata": {},
   "outputs": [],
   "source": [
    "#imports\n",
    "from selenium import webdriver\n",
    "from selenium.webdriver.common.keys import Keys\n",
    "import requests\n",
    "import urllib.request\n",
    "import os\n",
    "import time\n",
    "from bs4 import BeautifulSoup\n",
    "\n",
    "import base64\n",
    "import io\n",
    "from PIL import Image"
   ]
  },
  {
   "cell_type": "code",
   "execution_count": 646,
   "id": "73174be4",
   "metadata": {},
   "outputs": [
    {
     "name": "stdout",
     "output_type": "stream",
     "text": [
      "Input image to search for:\n",
      "Number of mouse scrolls:\n"
     ]
    }
   ],
   "source": [
    "#input what images to search\n",
    "print('Input image to search for:')\n",
    "search = input('> ')\n",
    "\n",
    "print('Number of mouse scrolls:')\n",
    "scrolls = int(input('> '))\n",
    "\n"
   ]
  },
  {
   "cell_type": "code",
   "execution_count": 647,
   "id": "1681e23a",
   "metadata": {},
   "outputs": [
    {
     "name": "stderr",
     "output_type": "stream",
     "text": [
      "C:\\Users\\lambo\\AppData\\Local\\Temp/ipykernel_7272/2151603596.py:2: DeprecationWarning: executable_path has been deprecated, please pass in a Service object\n",
      "  driver = webdriver.Chrome('C:/Users/lambo/chromedriver.exe')\n"
     ]
    }
   ],
   "source": [
    "#open google image search\n",
    "driver = webdriver.Chrome('C:/Users/lambo/chromedriver.exe')\n",
    "driver.get(\"https://www.google.com/imghp?hl=en\")\n"
   ]
  },
  {
   "cell_type": "code",
   "execution_count": 648,
   "id": "cb5fc6ef",
   "metadata": {},
   "outputs": [
    {
     "name": "stderr",
     "output_type": "stream",
     "text": [
      "C:\\Users\\lambo\\AppData\\Local\\Temp/ipykernel_7272/581484003.py:5: DeprecationWarning: find_element_by_* commands are deprecated. Please use find_element() instead\n",
      "  search_box = driver.find_element_by_xpath(\"//input[@aria-label='Search']\")\n",
      "C:\\Users\\lambo\\AppData\\Local\\Temp/ipykernel_7272/581484003.py:11: DeprecationWarning: find_element_by_* commands are deprecated. Please use find_element() instead\n",
      "  button = driver.find_element_by_xpath(\"//button[@aria-label='Google Search']\")\n"
     ]
    }
   ],
   "source": [
    "#wait at most 10 seconds for page to be loaded\n",
    "driver.implicitly_wait(10)\n",
    "\n",
    "#find search box\n",
    "search_box = driver.find_element_by_xpath(\"//input[@aria-label='Search']\")\n",
    "search_box.clear()\n",
    "search_box.send_keys(search)\n",
    "\n",
    "time.sleep(1) #wait 1 second before clicking search button\n",
    "#click search button\n",
    "button = driver.find_element_by_xpath(\"//button[@aria-label='Google Search']\")        \n",
    "button.click()"
   ]
  },
  {
   "cell_type": "code",
   "execution_count": 649,
   "id": "1052c64b",
   "metadata": {
    "scrolled": false
   },
   "outputs": [
    {
     "name": "stderr",
     "output_type": "stream",
     "text": [
      "C:\\Users\\lambo\\AppData\\Local\\Temp/ipykernel_7272/467704424.py:13: DeprecationWarning: find_elements_by_* commands are deprecated. Please use find_elements() instead\n",
      "  images = driver.find_elements_by_xpath(\"//a[@class='wXeWr islib nfEiy']\")   #find the clickable images\n",
      "C:\\Users\\lambo\\AppData\\Local\\Temp/ipykernel_7272/467704424.py:21: DeprecationWarning: find_elements_by_* commands are deprecated. Please use find_elements() instead\n",
      "  clicked_image_link_temp = driver.find_elements_by_xpath(\"//a[@class='wXeWr islib nfEiy']\")\n"
     ]
    }
   ],
   "source": [
    "#wait page to be loaded\n",
    "time.sleep(2)\n",
    "\n",
    "#scroll down the webpage\n",
    "for j in range(0,scrolls):\n",
    "    driver.execute_script(\"window.scrollTo(0, document.body.scrollHeight);\")\n",
    "    time.sleep(2)\n",
    "\n",
    "#wait at most 10 seconds for page to be loaded\n",
    "driver.implicitly_wait(10)\n",
    "\n",
    "#find the images\n",
    "images = driver.find_elements_by_xpath(\"//a[@class='wXeWr islib nfEiy']\")   #find the clickable images\n",
    "\n",
    "img_link=[]\n",
    "\n",
    "for i in range(0,len(images)-40):\n",
    "    #click the images to display the link for opening the image in new tab (initially hidden if you do not click the image)\n",
    "    driver.execute_script(\"arguments[0].click();\", images[i]) \n",
    "    #get the link to open the images new tab (to mimic right clicking the image and selecting \"Open link in new tab\")\n",
    "    clicked_image_link_temp = driver.find_elements_by_xpath(\"//a[@class='wXeWr islib nfEiy']\")\n",
    "    clicked_image_link = clicked_image_link_temp[i].get_attribute('href')\n",
    "    \n",
    "    #open a new tab\n",
    "    driver.execute_script('''window.open(\"https://www.google.com\",\"_blank\");''')\n",
    "    driver.switch_to.window(driver.window_handles[1])   # switch to the new tab\n",
    "    #time.sleep(1)\n",
    "    #load the hd image in the newly created tab\n",
    "    driver.get(clicked_image_link)\n",
    "    #wait image to be fully loaded\n",
    "    time.sleep(3)    ### ADJUST according to speed of internet\n",
    "   \n",
    "    #find src link of the hd image using BeautifulSoup\n",
    "    soup = BeautifulSoup(driver.page_source, 'html.parser')\n",
    "    hd_link = soup.find_all('img',{'id':'imi'})   \n",
    "    \n",
    "    b = hd_link[0]['src']  #src can be sometimes in base64 encoded format\n",
    "    \n",
    "    if b.startswith('http'):\n",
    "        img_link.append(b)\n",
    "    else:\n",
    "        z = b[b.find(r'/9'):]   #get only the base64 code\n",
    "        img_link.append(z)\n",
    "            \n",
    "    driver.close()\n",
    "    driver.switch_to.window(driver.window_handles[0])\n",
    "    "
   ]
  },
  {
   "cell_type": "code",
   "execution_count": 650,
   "id": "deda5dac",
   "metadata": {},
   "outputs": [],
   "source": [
    "#create path where to save the files\n",
    "#NOTE: change the path\n",
    "path = rf'C:\\Users\\lambo\\OneDrive\\Documents\\Python Scripts\\google hd\\{search}'\n",
    "if not os.path.exists(path):\n",
    "    os.makedirs(path)\n",
    "\n",
    "    \n",
    "for count, cat_link in enumerate(img_link):\n",
    "    #downloading the photos may fail sometimes (error 403)\n",
    "    try:\n",
    "        if cat_link.startswith('http'):\n",
    "            urllib.request.urlretrieve(cat_link, path + rf'\\{search}_hd_{count}.jpg')\n",
    "        else:\n",
    "            Image.open(io.BytesIO(base64.b64decode(cat_link))).save(rf'C:\\Users\\lambo\\OneDrive\\Documents\\Python Scripts\\google hd\\{search}\\{search}_hd_{count}.jpg')\n",
    "    except:\n",
    "        continue"
   ]
  }
 ],
 "metadata": {
  "kernelspec": {
   "display_name": "Python 3 (ipykernel)",
   "language": "python",
   "name": "python3"
  },
  "language_info": {
   "codemirror_mode": {
    "name": "ipython",
    "version": 3
   },
   "file_extension": ".py",
   "mimetype": "text/x-python",
   "name": "python",
   "nbconvert_exporter": "python",
   "pygments_lexer": "ipython3",
   "version": "3.8.3"
  }
 },
 "nbformat": 4,
 "nbformat_minor": 5
}
