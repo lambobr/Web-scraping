{
 "cells": [
  {
   "cell_type": "code",
   "execution_count": null,
   "id": "ebc09f75",
   "metadata": {},
   "outputs": [],
   "source": [
    "#imports here\n",
    "from selenium import webdriver\n",
    "from selenium.webdriver.common.keys import Keys\n",
    "from selenium.webdriver.support import expected_conditions as EC\n",
    "from selenium.webdriver.common.by import By\n",
    "from selenium.webdriver.support.wait import WebDriverWait\n",
    "from bs4 import BeautifulSoup\n",
    "import time"
   ]
  },
  {
   "cell_type": "code",
   "execution_count": null,
   "id": "2c9c4cc8",
   "metadata": {},
   "outputs": [],
   "source": [
    "#this code serves to remove popup notifications which can affect the flow of the code\n",
    "chrome_options = webdriver.ChromeOptions()\n",
    "prefs = {\"profile.default_content_setting_values.notifications\" : 2}\n",
    "chrome_options.add_experimental_option(\"prefs\",prefs)"
   ]
  },
  {
   "cell_type": "code",
   "execution_count": null,
   "id": "570d7529",
   "metadata": {},
   "outputs": [],
   "source": [
    "username_input = input('Input username:\\n> ')\n",
    "password_input = input('Input password:\\n> ')\n",
    "message = input('Write your message:\\n> ')"
   ]
  },
  {
   "cell_type": "code",
   "execution_count": null,
   "id": "22290490",
   "metadata": {},
   "outputs": [],
   "source": [
    "#specify the path to chromedriver.exe (download and save on your computer)\n",
    "driver = webdriver.Chrome('C:/Users/lambo/chromedriver.exe', chrome_options=chrome_options)\n",
    "\n",
    "#open the webpage\n",
    "driver.get(\"http://www.facebook.com\")\n",
    "\n",
    "#target username\n",
    "#username = WebDriverWait(driver, 10).until(EC.element_to_be_clickable((By.CSS_SELECTOR, \"input[name='email']\")))\n",
    "#password = WebDriverWait(driver, 10).until(EC.element_to_be_clickable((By.CSS_SELECTOR, \"input[name='pass']\")))\n",
    "\n",
    "username = WebDriverWait(driver, 10).until(EC.element_to_be_clickable((By.XPATH, \"//input[@name='email']\")))\n",
    "password = WebDriverWait(driver, 10).until(EC.element_to_be_clickable((By.XPATH, \"//input[@name='pass']\")))\n",
    "\n",
    "#enter username and password\n",
    "username.clear()\n",
    "username.send_keys(username_input)\n",
    "password.clear()\n",
    "password.send_keys(password_input)\n",
    "\n",
    "#target the login button and click it\n",
    "button = WebDriverWait(driver, 2).until(EC.element_to_be_clickable((By.CSS_SELECTOR, \"button[type='submit']\"))).click()\n",
    "\n",
    "#We are logged in!"
   ]
  },
  {
   "cell_type": "raw",
   "id": "e5ef46cd",
   "metadata": {},
   "source": []
  },
  {
   "cell_type": "code",
   "execution_count": null,
   "id": "4d7df5c7",
   "metadata": {
    "scrolled": false
   },
   "outputs": [],
   "source": [
    "#wait 2 seconds to allow your new page to load\n",
    "time.sleep(2)\n",
    "driver.get(\"http://www.facebook.com/messages\")\n",
    "#wait 2 seconds to allow your new page to load\n",
    "time.sleep(2)\n",
    "\n",
    "#use BeautifulSoup to get the url of chat link\n",
    "soup = BeautifulSoup(driver.page_source, 'html.parser')\n",
    "chat = soup.find_all('div',{'data-testid':'mwthreadlist-item-open'})\n"
   ]
  },
  {
   "cell_type": "code",
   "execution_count": null,
   "id": "8f4bd36f",
   "metadata": {},
   "outputs": [],
   "source": [
    "\n",
    "for items in chat[0:3]:\n",
    "    link = items.find('a',{'role':'link'})['href']  #Get the href link\n",
    "    driver.get(\"http://www.facebook.com\"+link)    #Open the chat link\n",
    "    #wait 2 seconds to allow your new page to load\n",
    "    time.sleep(2)\n",
    "    #find the paragraph where you type\n",
    "    paragraph = driver.find_element_by_css_selector(\"p[class='kvgmc6g5 oygrvhab']\")\n",
    "    paragraph.clear()   #make sure it is clear first\n",
    "    paragraph.send_keys(message)    #push the message\n",
    "    #wait 2 seconds for send button to appear\n",
    "    time.sleep(2)\n",
    "    #click the button\n",
    "    button = driver.find_element_by_css_selector(\"div[aria-label='Press enter to send']\").click()\n"
   ]
  }
 ],
 "metadata": {
  "kernelspec": {
   "display_name": "Python 3 (ipykernel)",
   "language": "python",
   "name": "python3"
  },
  "language_info": {
   "codemirror_mode": {
    "name": "ipython",
    "version": 3
   },
   "file_extension": ".py",
   "mimetype": "text/x-python",
   "name": "python",
   "nbconvert_exporter": "python",
   "pygments_lexer": "ipython3",
   "version": "3.8.3"
  }
 },
 "nbformat": 4,
 "nbformat_minor": 5
}
