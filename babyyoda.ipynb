{
 "cells": [
  {
   "cell_type": "code",
   "execution_count": 27,
   "id": "21d69cb9",
   "metadata": {},
   "outputs": [],
   "source": [
    "from bs4 import BeautifulSoup\n",
    "import requests\n",
    "import urllib.request"
   ]
  },
  {
   "cell_type": "code",
   "execution_count": 28,
   "id": "3f4aafe5",
   "metadata": {},
   "outputs": [],
   "source": [
    "url = 'https://www.reddit.com/r/BabyYoda/'\n",
    "response = requests.get(url)\n",
    "soup = BeautifulSoup(response.content, 'html.parser')"
   ]
  },
  {
   "cell_type": "code",
   "execution_count": 29,
   "id": "dbdda94c",
   "metadata": {},
   "outputs": [],
   "source": [
    "#print(soup.prettify())"
   ]
  },
  {
   "cell_type": "code",
   "execution_count": 30,
   "id": "700c8e19",
   "metadata": {},
   "outputs": [],
   "source": [
    "images = soup.find_all('img',{'alt':'Post image'})\n",
    "\n",
    "number = 0\n",
    "\n",
    "for image in images:\n",
    "    link = image.find('src')\n",
    "    path = r\"C:\\Users\\lambo\\OneDrive\\Documents\\yoda\\yoda\" + str(number) + \".jpg\"\n",
    "    urllib.request.urlretrieve(link, path)\n",
    "    number += 1\n"
   ]
  }
 ],
 "metadata": {
  "kernelspec": {
   "display_name": "Python 3 (ipykernel)",
   "language": "python",
   "name": "python3"
  },
  "language_info": {
   "codemirror_mode": {
    "name": "ipython",
    "version": 3
   },
   "file_extension": ".py",
   "mimetype": "text/x-python",
   "name": "python",
   "nbconvert_exporter": "python",
   "pygments_lexer": "ipython3",
   "version": "3.8.3"
  }
 },
 "nbformat": 4,
 "nbformat_minor": 5
}
