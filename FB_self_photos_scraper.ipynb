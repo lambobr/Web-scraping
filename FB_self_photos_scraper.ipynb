{
 "cells": [
  {
   "cell_type": "code",
   "execution_count": null,
   "id": "de13b709",
   "metadata": {},
   "outputs": [],
   "source": [
    "#imports here\n",
    "from selenium import webdriver\n",
    "from selenium.webdriver.common.keys import Keys\n",
    "from selenium.webdriver.support import expected_conditions as EC\n",
    "from selenium.webdriver.common.by import By\n",
    "from selenium.webdriver.support.wait import WebDriverWait\n",
    "import time"
   ]
  },
  {
   "cell_type": "code",
   "execution_count": null,
   "id": "033ea15a",
   "metadata": {},
   "outputs": [],
   "source": [
    "#this code serves to remove popup notifications which can affect the flow of the code\n",
    "chrome_options = webdriver.ChromeOptions()\n",
    "prefs = {\"profile.default_content_setting_values.notifications\" : 2}\n",
    "chrome_options.add_experimental_option(\"prefs\",prefs)"
   ]
  },
  {
   "cell_type": "code",
   "execution_count": null,
   "id": "cdf73cc5",
   "metadata": {},
   "outputs": [],
   "source": [
    "username_input = input('Input username:\\n> ')\n",
    "password_input = input('Input password:\\n> ')"
   ]
  },
  {
   "cell_type": "code",
   "execution_count": null,
   "id": "fb19ce79",
   "metadata": {},
   "outputs": [],
   "source": [
    "#specify the path to chromedriver.exe (download and save on your computer)\n",
    "driver = webdriver.Chrome('C:/Users/lambo/chromedriver.exe', chrome_options=chrome_options)\n",
    "\n",
    "#open the webpage\n",
    "driver.get(\"http://www.facebook.com\")\n",
    "\n",
    "#target username\n",
    "username = WebDriverWait(driver, 10).until(EC.element_to_be_clickable((By.CSS_SELECTOR, \"input[name='email']\")))\n",
    "password = WebDriverWait(driver, 10).until(EC.element_to_be_clickable((By.CSS_SELECTOR, \"input[name='pass']\")))\n",
    "\n",
    "#enter username and password\n",
    "username.clear()\n",
    "username.send_keys(username_input)\n",
    "password.clear()\n",
    "password.send_keys(password_input)\n",
    "\n",
    "#target the login button and click it\n",
    "button = WebDriverWait(driver, 2).until(EC.element_to_be_clickable((By.CSS_SELECTOR, \"button[type='submit']\"))).click()\n",
    "\n",
    "#We are logged in!"
   ]
  },
  {
   "cell_type": "code",
   "execution_count": null,
   "id": "5e954474",
   "metadata": {},
   "outputs": [],
   "source": [
    "#wait 2 seconds to allow your new page to load\n",
    "time.sleep(2)\n",
    "images = [] \n",
    "\n",
    "#iterate over both uploaded and tagged images respectively\n",
    "for i in [\"photos_of\", \"photos_by\"]:\n",
    "   \n",
    "    driver.get(\"https://www.facebook.com/me/\" + i + \"/\")\n",
    "    time.sleep(2)\n",
    "    \n",
    "    #scroll down\n",
    "    #increase the range to sroll more\n",
    "    #example: range(0,10) scrolls down 650+ images\n",
    "    for j in range(0,1):\n",
    "        driver.execute_script(\"window.scrollTo(0, 10);\")\n",
    "        time.sleep(2)\n",
    "\n",
    "        #target all the link elements on the page\n",
    "        anchors = driver.find_elements_by_tag_name('a')\n",
    "        anchors = [a.get_attribute('href') for a in anchors]\n",
    "        #narrow down all links to image links only\n",
    "        anchors = [a for a in anchors if str(a).startswith(\"https://www.facebook.com/photo\")]\n",
    "\n",
    "        print('Found ' + str(len(anchors)) + ' links to images')\n",
    "\n",
    "        #extract the [1]st image element in each link\n",
    "        for a in anchors:\n",
    "            driver.get(a) #navigate to link\n",
    "            time.sleep(2) #wait a bit\n",
    "            img = driver.find_elements_by_tag_name(\"img\")\n",
    "            images.append(img[0].get_attribute(\"src\")) "
   ]
  },
  {
   "cell_type": "code",
   "execution_count": null,
   "id": "7b905ea6",
   "metadata": {},
   "outputs": [],
   "source": [
    "import os\n",
    "\n",
    "path = r'C:\\Users\\lambo\\OneDrive\\Documents\\Python Scripts\\FB scraper'\n",
    "\n",
    "if not os.path.exists(path):\n",
    "    os.makedirs(path) #create the directory"
   ]
  },
  {
   "cell_type": "code",
   "execution_count": null,
   "id": "e560a1bc",
   "metadata": {},
   "outputs": [],
   "source": [
    "import wget\n",
    "\n",
    "#download images\n",
    "\n",
    "for counter, image in enumerate(images):\n",
    "    save_as = os.path.join(path, str(counter) + '.jpg')\n",
    "    wget.download(image, save_as)\n",
    "    "
   ]
  },
  {
   "cell_type": "code",
   "execution_count": null,
   "id": "74008bd5",
   "metadata": {},
   "outputs": [],
   "source": []
  }
 ],
 "metadata": {
  "kernelspec": {
   "display_name": "Python 3 (ipykernel)",
   "language": "python",
   "name": "python3"
  },
  "language_info": {
   "codemirror_mode": {
    "name": "ipython",
    "version": 3
   },
   "file_extension": ".py",
   "mimetype": "text/x-python",
   "name": "python",
   "nbconvert_exporter": "python",
   "pygments_lexer": "ipython3",
   "version": "3.8.3"
  }
 },
 "nbformat": 4,
 "nbformat_minor": 5
}
